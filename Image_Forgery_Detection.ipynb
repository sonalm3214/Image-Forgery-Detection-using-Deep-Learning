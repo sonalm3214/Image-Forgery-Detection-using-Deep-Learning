{
 "cells": [
  {
   "cell_type": "code",
   "execution_count": 1,
   "metadata": {
    "vscode": {
     "languageId": "plaintext"
    }
   },
   "outputs": [
    {
     "name": "stdout",
     "output_type": "stream",
     "text": [
      "2.10.0\n"
     ]
    }
   ],
   "source": [
    "# Set seeds for reproducibility\n",
    "import random\n",
    "random.seed(69)\n",
    "\n",
    "import numpy as np\n",
    "np.random.seed(69)\n",
    "\n",
    "import tensorflow as tf\n",
    "tf.random.set_seed(69)\n",
    "import tensorflow as tf\n",
    "print(tf.__version__)\n"
   ]
  },
  {
   "cell_type": "code",
   "execution_count": 2,
   "metadata": {
    "vscode": {
     "languageId": "plaintext"
    }
   },
   "outputs": [
    {
     "name": "stdout",
     "output_type": "stream",
     "text": [
      "Available GPUs: [PhysicalDevice(name='/physical_device:GPU:0', device_type='GPU')]\n"
     ]
    }
   ],
   "source": [
    "# Allow memory growth on the GPU\n",
    "gpus = tf.config.list_physical_devices('GPU')\n",
    "if gpus:\n",
    "    try:\n",
    "        for gpu in gpus:\n",
    "            tf.config.experimental.set_memory_growth(gpu, True)\n",
    "    except RuntimeError as e:\n",
    "        print(e)\n",
    "\n",
    "# Check if GPU is available\n",
    "gpu_available = tf.config.list_physical_devices('GPU')\n",
    "print(\"Available GPUs:\", gpu_available)\n"
   ]
  },
  {
   "cell_type": "code",
   "execution_count": null,
   "metadata": {
    "vscode": {
     "languageId": "plaintext"
    }
   },
   "outputs": [],
   "source": [
    "import tensorflow as tf\n",
    "from tensorflow.keras import backend as K\n",
    "import gc\n",
    "import re  # Import the regular expression module\n",
    "\n",
    "# Clear session and garbage collection\n",
    "K.clear_session()\n",
    "gc.collect()\n",
    "\n",
    "try:\n",
    "    gpus = tf.config.list_physical_devices('GPU')\n",
    "    if gpus:  # Check if any GPUs are found\n",
    "        gpu_device_name = gpus[0].name  # Get the full device name\n",
    "        match = re.search(r'GPU:(\\d+)', gpu_device_name)  # Extract \"GPU:X\"\n",
    "        if match:\n",
    "            short_gpu_name = match.group(0)  # This will be \"GPU:0\", \"GPU:1\", etc.\n",
    "            tf.config.experimental.reset_memory_stats(short_gpu_name)\n",
    "            print(f\"Memory stats reset for device: {short_gpu_name}\")\n",
    "        else:\n",
    "            print(\"Could not parse GPU device name.\")\n",
    "    else:\n",
    "        print(\"No GPUs found. Skipping memory reset.\")\n",
    "except Exception as e:\n",
    "    print(f\"An error occurred during memory reset: {e}\")\n"
   ]
  },
  {
   "cell_type": "code",
   "execution_count": 5,
   "metadata": {
    "vscode": {
     "languageId": "plaintext"
    }
   },
   "outputs": [],
   "source": [
    "import os\n",
    "import numpy as np\n",
    "import cv2\n",
    "from PIL import Image, ImageChops, ImageEnhance\n",
    "import matplotlib.pyplot as plt\n",
    "import seaborn as sns\n",
    "\n",
    "import tensorflow as tf\n",
    "from tensorflow import keras\n",
    "from tensorflow.keras import layers, models, regularizers, backend as K\n",
    "from tensorflow.keras.optimizers import Adam\n",
    "from tensorflow.keras.applications import VGG19\n",
    "from tensorflow.keras.utils import Sequence\n",
    "from tensorflow.keras.callbacks import (\n",
    "    EarlyStopping, ReduceLROnPlateau, ModelCheckpoint, TensorBoard, CSVLogger, TerminateOnNaN\n",
    ")\n",
    "\n",
    "from sklearn.metrics import confusion_matrix, classification_report, precision_score, recall_score, f1_score, precision_recall_curve\n",
    "from sklearn.utils import class_weight, compute_class_weight, shuffle\n",
    "from sklearn.model_selection import train_test_split"
   ]
  },
  {
   "cell_type": "code",
   "execution_count": 6,
   "metadata": {
    "vscode": {
     "languageId": "plaintext"
    }
   },
   "outputs": [
    {
     "name": "stdout",
     "output_type": "stream",
     "text": [
      "C:\\Users\\WWWZX\\AI_Class_Work\\cnn_split\\casia2data\n",
      "File exists!\n",
      "File exists!\n",
      "File exists!\n"
     ]
    }
   ],
   "source": [
    "print(os.getcwd())\n",
    "# Data Directories (REPLACE THESE WITH YOUR ACTUAL PATHS)\n",
    "base_dir = os.getcwd()  # Contains subfolders for each class\n",
    "train_dir = base_dir + \"/train_val_test_split_384x384/train\"\n",
    "val_dir = base_dir + \"/train_val_test_split_384x384/val\"\n",
    "test_dir = base_dir + \"/train_val_test_split_384x384/test\"\n",
    "if os.path.exists(train_dir):\n",
    "    print(\"File exists!\")\n",
    "else:\n",
    "    print(\"File NOT found!\")\n",
    "if os.path.exists(val_dir):\n",
    "    print(\"File exists!\")\n",
    "else:\n",
    "    print(\"File NOT found!\")\n",
    "if os.path.exists(test_dir):\n",
    "    print(\"File exists!\")\n",
    "else:\n",
    "    print(\"File NOT found!\")    "
   ]
  },
  {
   "cell_type": "code",
   "execution_count": null,
   "metadata": {},
   "outputs": [],
   "source": [
    "# Ensure your original convert_to_ela_image function is defined somewhere:\n",
    "def convert_to_ela_image(image_path, quality=90, img_size=256):\n",
    "    \"\"\"Converts an image to its ELA representation using file-based processing.\"\"\"\n",
    "    temp_filename = \"temp_ela.jpg\"\n",
    "    image = Image.open(image_path).convert(\"RGB\")\n",
    "    image.save(temp_filename, \"JPEG\", quality=quality)\n",
    "    temp_image = Image.open(temp_filename)\n",
    "    \n",
    "    ela_image = ImageChops.difference(image, temp_image)\n",
    "    extrema = ela_image.getextrema()\n",
    "    max_diff = max([ex[1] for ex in extrema])\n",
    "    scale = 255.0 / max_diff if max_diff != 0 else 1\n",
    "    ela_image = ImageEnhance.Brightness(ela_image).enhance(scale)\n",
    "    \n",
    "    ela_image = ela_image.resize((256, 256))\n",
    "    return np.array(ela_image) / 255.0  # Normalize to [0,1]\n",
    "\n",
    "class ELAImageDataGenerator(tf.keras.utils.Sequence):\n",
    "    def __init__(self, directory, batch_size, img_size, class_mode=\"binary\", shuffle=True):\n",
    "        self.directory = directory\n",
    "        self.batch_size = batch_size\n",
    "        self.img_size = img_size\n",
    "        self.class_mode = class_mode\n",
    "        self.shuffle = shuffle\n",
    "\n",
    "        self.classes = {\"au\": 0, \"tp\": 1}  # Assign class labels\n",
    "        self.image_paths, self.labels = self._load_image_paths_and_labels()\n",
    "        self.labels = list(self.labels)  # Ensure labels are a list\n",
    "        self.on_epoch_end()  # Shuffle initially if needed\n",
    "    \n",
    "    def _load_image_paths_and_labels(self):\n",
    "        \"\"\"Loads all image paths and labels from the directory.\"\"\"\n",
    "        image_paths = []\n",
    "        labels = []\n",
    "        for class_name, label in self.classes.items():\n",
    "            class_path = os.path.join(self.directory, class_name)\n",
    "            if os.path.exists(class_path):\n",
    "                for filename in os.listdir(class_path):\n",
    "                    if filename.lower().endswith((\".jpg\", \".png\", \".jpeg\")):\n",
    "                        image_paths.append(os.path.join(class_path, filename))\n",
    "                        labels.append(label)\n",
    "        return image_paths, labels\n",
    "\n",
    "    def __len__(self):\n",
    "        \"\"\"Returns the total number of batches (including any partial batch).\"\"\"\n",
    "        return int(np.ceil(len(self.image_paths) / self.batch_size))\n",
    "\n",
    "    def __getitem__(self, index):\n",
    "        \"\"\"Generates one batch of data.\"\"\"\n",
    "        start_idx = index * self.batch_size\n",
    "        end_idx = min((index + 1) * self.batch_size, len(self.image_paths))\n",
    "        \n",
    "        batch_image_paths = self.image_paths[start_idx:end_idx]\n",
    "        batch_labels = self.labels[start_idx:end_idx]\n",
    "        \n",
    "        X, Y = self._generate_batch(batch_image_paths, batch_labels)\n",
    "        return X, Y\n",
    "\n",
    "    def _generate_batch(self, batch_image_paths, batch_labels):\n",
    "        \"\"\"Generates a batch of images (converted to ELA) and corresponding labels.\"\"\"\n",
    "        # Apply ELA conversion to each image in the batch.\n",
    "        batch_images = [convert_to_ela_image(img_path, quality=90, img_size=self.img_size) \n",
    "                        for img_path in batch_image_paths]\n",
    "        return np.array(batch_images), np.array(batch_labels)\n",
    "\n",
    "    def on_epoch_end(self):\n",
    "        \"\"\"Shuffles the dataset after each epoch.\"\"\"\n",
    "        if self.shuffle:\n",
    "            combined = list(zip(self.image_paths, self.labels))\n",
    "            np.random.shuffle(combined)\n",
    "            self.image_paths, self.labels = zip(*combined)\n",
    "            # Convert back to list and array respectively:\n",
    "            self.image_paths = list(self.image_paths)\n",
    "            self.labels = list(self.labels)\n"
   ]
  },
  {
   "cell_type": "code",
   "execution_count": 8,
   "metadata": {
    "vscode": {
     "languageId": "plaintext"
    }
   },
   "outputs": [],
   "source": [
    "# Image Parameters\n",
    "img_size = 384  # Or your desired size\n",
    "batch_size = 32 # Adjust as needed"
   ]
  },
  {
   "cell_type": "code",
   "execution_count": 9,
   "metadata": {
    "vscode": {
     "languageId": "plaintext"
    }
   },
   "outputs": [
    {
     "name": "stdout",
     "output_type": "stream",
     "text": [
      "ELA-based data generators are ready!\n"
     ]
    }
   ],
   "source": [
    "# Use Custom ELA Data Generators\n",
    "train_generator = ELAImageDataGenerator(directory=train_dir, batch_size=batch_size, img_size=img_size)\n",
    "val_generator = ELAImageDataGenerator(directory=val_dir, batch_size=batch_size, img_size=img_size)\n",
    "test_generator = ELAImageDataGenerator(directory=test_dir, batch_size=batch_size, img_size=img_size, shuffle=False)\n",
    "print(\"ELA-based data generators are ready!\")"
   ]
  },
  {
   "cell_type": "code",
   "execution_count": 8,
   "metadata": {
    "jupyter": {
     "source_hidden": true
    },
    "vscode": {
     "languageId": "plaintext"
    }
   },
   "outputs": [],
   "source": [
    "#for debugging purpose only\n",
    "# batch_images, batch_labels = train_generator[0]  # Assuming train_generator is now ELA-based\n",
    "# print(\"Min pixel value:\", np.min(batch_images))\n",
    "# print(\"Max pixel value:\", np.max(batch_images))"
   ]
  },
  {
   "cell_type": "code",
   "execution_count": 11,
   "metadata": {},
   "outputs": [
    {
     "name": "stdout",
     "output_type": "stream",
     "text": [
      "Train Class Distribution: {'au': 4498, 'tp': 965}\n",
      "Validation Class Distribution: {'au': 964, 'tp': 206}\n",
      "Test Class Distribution: {'au': 976, 'tp': 208}\n"
     ]
    }
   ],
   "source": [
    "#Define your class mapping manually\n",
    "inverse_class_map = {0: \"au\", 1: \"tp\"}  # Adjust this according to your dataset\n",
    "\n",
    "# Get class distributions for training set\n",
    "unique_classes, class_counts = np.unique(train_generator.labels, return_counts=True)\n",
    "class_labels = [inverse_class_map[i] for i in unique_classes]\n",
    "print(\"Train Class Distribution:\", dict(zip(class_labels, class_counts)))\n",
    "\n",
    "# Get class distributions for validation set\n",
    "unique_classes, class_counts = np.unique(val_generator.labels, return_counts=True)\n",
    "class_labels = [inverse_class_map[i] for i in unique_classes]\n",
    "print(\"Validation Class Distribution:\", dict(zip(class_labels, class_counts)))\n",
    "\n",
    "# Get class distributions for test set\n",
    "unique_classes, class_counts = np.unique(test_generator.labels, return_counts=True)\n",
    "class_labels = [inverse_class_map[i] for i in unique_classes]\n",
    "print(\"Test Class Distribution:\", dict(zip(class_labels, class_counts)))"
   ]
  },
  {
   "cell_type": "code",
   "execution_count": 1,
   "metadata": {
    "jupyter": {
     "source_hidden": true
    }
   },
   "outputs": [],
   "source": [
    "#for debugging purposes\n",
    "# print(dir(train_generator))  # See available attributes\n",
    "# print(type(train_generator.classes))  # Should be list or np.ndarray\n",
    "# print(train_generator.classes)  # See what it contains\n"
   ]
  },
  {
   "cell_type": "code",
   "execution_count": 2,
   "metadata": {
    "jupyter": {
     "source_hidden": true
    }
   },
   "outputs": [],
   "source": [
    "#for debugging purpose only\n",
    "# # Check if 'labels' is accessible and not empty\n",
    "# if hasattr(train_generator, \"labels\") and train_generator.labels:\n",
    "#     train_classes = np.array(train_generator.labels)  # Extract labels\n",
    "#     print(\"Extracted Labels:\", train_classes[:10])  # Print first 10 labels\n",
    "# else:\n",
    "#     raise AttributeError(\"train_generator does not have a valid 'labels' attribute.\")\n"
   ]
  },
  {
   "cell_type": "code",
   "execution_count": 14,
   "metadata": {},
   "outputs": [
    {
     "name": "stdout",
     "output_type": "stream",
     "text": [
      "Computed Class Weights: {0: 0.6072698977323254, 1: 2.8305699481865285}\n"
     ]
    }
   ],
   "source": [
    "# Ensure train_classes is correctly extracted\n",
    "train_classes = np.array(train_generator.labels)\n",
    "\n",
    "class_weights = class_weight.compute_class_weight(\n",
    "    class_weight='balanced', \n",
    "    classes=np.unique(train_classes), \n",
    "    y=train_classes\n",
    ")\n",
    "\n",
    "class_weight_dict = dict(zip(np.unique(train_classes), class_weights))\n",
    "print(\"Computed Class Weights:\", class_weight_dict)\n"
   ]
  },
  {
   "cell_type": "code",
   "execution_count": 15,
   "metadata": {},
   "outputs": [],
   "source": [
    "# Load VGG16 with ImageNet weights, without the top classification layer\n",
    "base_model = VGG19(weights='imagenet', include_top=False, input_shape=(img_size, img_size, 3))\n",
    "\n",
    "# Freeze the base model\n",
    "base_model.trainable = False\n"
   ]
  },
  {
   "cell_type": "code",
   "execution_count": 16,
   "metadata": {},
   "outputs": [
    {
     "name": "stdout",
     "output_type": "stream",
     "text": [
      "Model: \"vgg19\"\n",
      "_________________________________________________________________\n",
      " Layer (type)                Output Shape              Param #   \n",
      "=================================================================\n",
      " input_1 (InputLayer)        [(None, 384, 384, 3)]     0         \n",
      "                                                                 \n",
      " block1_conv1 (Conv2D)       (None, 384, 384, 64)      1792      \n",
      "                                                                 \n",
      " block1_conv2 (Conv2D)       (None, 384, 384, 64)      36928     \n",
      "                                                                 \n",
      " block1_pool (MaxPooling2D)  (None, 192, 192, 64)      0         \n",
      "                                                                 \n",
      " block2_conv1 (Conv2D)       (None, 192, 192, 128)     73856     \n",
      "                                                                 \n",
      " block2_conv2 (Conv2D)       (None, 192, 192, 128)     147584    \n",
      "                                                                 \n",
      " block2_pool (MaxPooling2D)  (None, 96, 96, 128)       0         \n",
      "                                                                 \n",
      " block3_conv1 (Conv2D)       (None, 96, 96, 256)       295168    \n",
      "                                                                 \n",
      " block3_conv2 (Conv2D)       (None, 96, 96, 256)       590080    \n",
      "                                                                 \n",
      " block3_conv3 (Conv2D)       (None, 96, 96, 256)       590080    \n",
      "                                                                 \n",
      " block3_conv4 (Conv2D)       (None, 96, 96, 256)       590080    \n",
      "                                                                 \n",
      " block3_pool (MaxPooling2D)  (None, 48, 48, 256)       0         \n",
      "                                                                 \n",
      " block4_conv1 (Conv2D)       (None, 48, 48, 512)       1180160   \n",
      "                                                                 \n",
      " block4_conv2 (Conv2D)       (None, 48, 48, 512)       2359808   \n",
      "                                                                 \n",
      " block4_conv3 (Conv2D)       (None, 48, 48, 512)       2359808   \n",
      "                                                                 \n",
      " block4_conv4 (Conv2D)       (None, 48, 48, 512)       2359808   \n",
      "                                                                 \n",
      " block4_pool (MaxPooling2D)  (None, 24, 24, 512)       0         \n",
      "                                                                 \n",
      " block5_conv1 (Conv2D)       (None, 24, 24, 512)       2359808   \n",
      "                                                                 \n",
      " block5_conv2 (Conv2D)       (None, 24, 24, 512)       2359808   \n",
      "                                                                 \n",
      " block5_conv3 (Conv2D)       (None, 24, 24, 512)       2359808   \n",
      "                                                                 \n",
      " block5_conv4 (Conv2D)       (None, 24, 24, 512)       2359808   \n",
      "                                                                 \n",
      " block5_pool (MaxPooling2D)  (None, 12, 12, 512)       0         \n",
      "                                                                 \n",
      "=================================================================\n",
      "Total params: 20,024,384\n",
      "Trainable params: 0\n",
      "Non-trainable params: 20,024,384\n",
      "_________________________________________________________________\n"
     ]
    }
   ],
   "source": [
    "# Build the model\n",
    "model = models.Sequential([\n",
    "    base_model,\n",
    "    layers.GlobalAveragePooling2D(),\n",
    "    layers.Dense(512, activation='relu'),\n",
    "    layers.BatchNormalization(),\n",
    "    layers.Dropout(0.38),\n",
    "    layers.Dense(1, activation='sigmoid')  # Binary classification\n",
    "])\n",
    "base_model.summary()"
   ]
  },
  {
   "cell_type": "code",
   "execution_count": 17,
   "metadata": {},
   "outputs": [
    {
     "name": "stdout",
     "output_type": "stream",
     "text": [
      "22\n"
     ]
    }
   ],
   "source": [
    "print(len(base_model.layers))"
   ]
  },
  {
   "cell_type": "code",
   "execution_count": 18,
   "metadata": {},
   "outputs": [],
   "source": [
    "def focal_loss(alpha=0.5, gamma=3.0):\n",
    "    def loss(y_true, y_pred):\n",
    "        y_true = K.cast(y_true, K.floatx())  # Convert labels to float32\n",
    "        epsilon = K.epsilon()  # Small value to avoid log(0)\n",
    "        y_pred = K.clip(y_pred, epsilon, 1.0 - epsilon)  # Clip predictions\n",
    "\n",
    "        bce = K.binary_crossentropy(y_true, y_pred)  # Compute binary cross-entropy\n",
    "        p_t = y_true * y_pred + (1 - y_true) * (1 - y_pred)  # Probabilities\n",
    "        focal_factor = alpha * K.pow(1 - p_t, gamma)  # Focal weighting\n",
    "\n",
    "        return K.mean(focal_factor * bce)  # Weighted BCE\n",
    "    return loss"
   ]
  },
  {
   "cell_type": "code",
   "execution_count": null,
   "metadata": {},
   "outputs": [],
   "source": [
    "optimizer = tf.keras.optimizers.Adam(learning_rate=0.0001)  "
   ]
  },
  {
   "cell_type": "code",
   "execution_count": 22,
   "metadata": {
    "vscode": {
     "languageId": "plaintext"
    }
   },
   "outputs": [
    {
     "name": "stdout",
     "output_type": "stream",
     "text": [
      "success of this block\n"
     ]
    }
   ],
   "source": [
    "model.compile(\n",
    "    optimizer=optimizer,\n",
    "    loss=focal_loss(alpha=0.25, gamma=2.0),  \n",
    "    metrics=['accuracy', tf.keras.metrics.Precision(), tf.keras.metrics.Recall()]\n",
    ")\n",
    "\n",
    "print(\"success of this block\")"
   ]
  },
  {
   "cell_type": "code",
   "execution_count": 23,
   "metadata": {
    "vscode": {
     "languageId": "plaintext"
    }
   },
   "outputs": [
    {
     "name": "stdout",
     "output_type": "stream",
     "text": [
      "success of this block\n"
     ]
    }
   ],
   "source": [
    "# Callbacks (Early Stopping and ReduceLROnPlateau)\n",
    "early_stopping = EarlyStopping(monitor='val_loss', patience=7, restore_best_weights=True,verbose=2) #stop training when validation loss is not decreasing\n",
    "reduce_lr = ReduceLROnPlateau(monitor='val_loss', factor=0.35, patience=5, min_lr=1e-8,verbose=2) #reduce learning rate when validation loss is not decreasing\n",
    "checkpoint_callback = ModelCheckpoint(filepath='checkpoints/model_{epoch:02d}.h5', monitor='val_loss', save_best_only=True, save_weights_only=False, verbose=2)\n",
    "tensorboard_callback = TensorBoard(log_dir=\"Tensor_Board_Logs\", histogram_freq=1,)\n",
    "csv_logger = CSVLogger('training_log.csv')\n",
    "nan_terminator = TerminateOnNaN()\n",
    "\n",
    "print(\"success of this block\")"
   ]
  },
  {
   "cell_type": "code",
   "execution_count": 24,
   "metadata": {
    "scrolled": true,
    "vscode": {
     "languageId": "plaintext"
    }
   },
   "outputs": [
    {
     "name": "stdout",
     "output_type": "stream",
     "text": [
      "Epoch 1/50\n",
      "171/171 [==============================] - ETA: 0s - loss: 0.0348 - accuracy: 0.7591 - precision: 0.4125 - recall: 0.8570           \n",
      "Epoch 1: val_loss improved from inf to 0.02699, saving model to checkpoints\\model_01.h5\n",
      "171/171 [==============================] - 74s 365ms/step - loss: 0.0348 - accuracy: 0.7591 - precision: 0.4125 - recall: 0.8570 - val_loss: 0.0270 - val_accuracy: 0.8239 - val_precision: 0.0000e+00 - val_recall: 0.0000e+00 - lr: 1.0000e-04\n",
      "Epoch 2/50\n",
      "171/171 [==============================] - ETA: 0s - loss: 0.0215 - accuracy: 0.8742 - precision: 0.6153 - recall: 0.7689          \n",
      "Epoch 2: val_loss improved from 0.02699 to 0.02410, saving model to checkpoints\\model_02.h5\n",
      "171/171 [==============================] - 59s 342ms/step - loss: 0.0215 - accuracy: 0.8742 - precision: 0.6153 - recall: 0.7689 - val_loss: 0.0241 - val_accuracy: 0.8239 - val_precision: 0.0000e+00 - val_recall: 0.0000e+00 - lr: 1.0000e-04\n",
      "Epoch 3/50\n",
      "171/171 [==============================] - ETA: 0s - loss: 0.0169 - accuracy: 0.9041 - precision: 0.7243 - recall: 0.7378  \n",
      "Epoch 3: val_loss improved from 0.02410 to 0.01582, saving model to checkpoints\\model_03.h5\n",
      "171/171 [==============================] - 58s 340ms/step - loss: 0.0169 - accuracy: 0.9041 - precision: 0.7243 - recall: 0.7378 - val_loss: 0.0158 - val_accuracy: 0.9009 - val_precision: 0.9592 - val_recall: 0.4563 - lr: 1.0000e-04\n",
      "Epoch 4/50\n",
      "171/171 [==============================] - ETA: 0s - loss: 0.0152 - accuracy: 0.9162 - precision: 0.7723 - recall: 0.7451  \n",
      "Epoch 4: val_loss improved from 0.01582 to 0.01244, saving model to checkpoints\\model_04.h5\n",
      "171/171 [==============================] - 60s 347ms/step - loss: 0.0152 - accuracy: 0.9162 - precision: 0.7723 - recall: 0.7451 - val_loss: 0.0124 - val_accuracy: 0.9308 - val_precision: 0.8788 - val_recall: 0.7039 - lr: 1.0000e-04\n",
      "Epoch 5/50\n",
      "171/171 [==============================] - ETA: 0s - loss: 0.0150 - accuracy: 0.9196 - precision: 0.7859 - recall: 0.7492  \n",
      "Epoch 5: val_loss improved from 0.01244 to 0.01178, saving model to checkpoints\\model_05.h5\n",
      "171/171 [==============================] - 65s 379ms/step - loss: 0.0150 - accuracy: 0.9196 - precision: 0.7859 - recall: 0.7492 - val_loss: 0.0118 - val_accuracy: 0.9376 - val_precision: 0.8182 - val_recall: 0.8301 - lr: 1.0000e-04\n",
      "Epoch 6/50\n",
      "171/171 [==============================] - ETA: 0s - loss: 0.0148 - accuracy: 0.9228 - precision: 0.7967 - recall: 0.7554  \n",
      "Epoch 6: val_loss did not improve from 0.01178\n",
      "171/171 [==============================] - 59s 342ms/step - loss: 0.0148 - accuracy: 0.9228 - precision: 0.7967 - recall: 0.7554 - val_loss: 0.0281 - val_accuracy: 0.8667 - val_precision: 0.9808 - val_recall: 0.2476 - lr: 1.0000e-04\n",
      "Epoch 7/50\n",
      "171/171 [==============================] - ETA: 0s - loss: 0.0138 - accuracy: 0.9259 - precision: 0.8111 - recall: 0.7565  \n",
      "Epoch 7: val_loss did not improve from 0.01178\n",
      "171/171 [==============================] - 64s 375ms/step - loss: 0.0138 - accuracy: 0.9259 - precision: 0.8111 - recall: 0.7565 - val_loss: 0.0160 - val_accuracy: 0.9162 - val_precision: 0.7061 - val_recall: 0.8981 - lr: 1.0000e-04\n",
      "Epoch 8/50\n",
      "171/171 [==============================] - ETA: 0s - loss: 0.0137 - accuracy: 0.9295 - precision: 0.8132 - recall: 0.7803  \n",
      "Epoch 8: val_loss did not improve from 0.01178\n",
      "171/171 [==============================] - 64s 375ms/step - loss: 0.0137 - accuracy: 0.9295 - precision: 0.8132 - recall: 0.7803 - val_loss: 0.0277 - val_accuracy: 0.8419 - val_precision: 0.5280 - val_recall: 0.9612 - lr: 1.0000e-04\n",
      "Epoch 9/50\n",
      "171/171 [==============================] - ETA: 0s - loss: 0.0135 - accuracy: 0.9293 - precision: 0.8130 - recall: 0.7793  \n",
      "Epoch 9: val_loss did not improve from 0.01178\n",
      "171/171 [==============================] - 61s 356ms/step - loss: 0.0135 - accuracy: 0.9293 - precision: 0.8130 - recall: 0.7793 - val_loss: 0.0415 - val_accuracy: 0.7521 - val_precision: 0.4139 - val_recall: 0.9806 - lr: 1.0000e-04\n",
      "Epoch 10/50\n",
      "171/171 [==============================] - ETA: 0s - loss: 0.0136 - accuracy: 0.9277 - precision: 0.8098 - recall: 0.7720  \n",
      "Epoch 10: ReduceLROnPlateau reducing learning rate to 3.499999911582563e-05.\n",
      "\n",
      "Epoch 10: val_loss did not improve from 0.01178\n",
      "171/171 [==============================] - 60s 349ms/step - loss: 0.0136 - accuracy: 0.9277 - precision: 0.8098 - recall: 0.7720 - val_loss: 0.0385 - val_accuracy: 0.7821 - val_precision: 0.4457 - val_recall: 0.9757 - lr: 1.0000e-04\n",
      "Epoch 11/50\n",
      "171/171 [==============================] - ETA: 0s - loss: 0.0123 - accuracy: 0.9334 - precision: 0.8200 - recall: 0.7979  \n",
      "Epoch 11: val_loss improved from 0.01178 to 0.01100, saving model to checkpoints\\model_11.h5\n",
      "171/171 [==============================] - 64s 371ms/step - loss: 0.0123 - accuracy: 0.9334 - precision: 0.8200 - recall: 0.7979 - val_loss: 0.0110 - val_accuracy: 0.9427 - val_precision: 0.8677 - val_recall: 0.7961 - lr: 3.5000e-05\n",
      "Epoch 12/50\n",
      "171/171 [==============================] - ETA: 0s - loss: 0.0126 - accuracy: 0.9356 - precision: 0.8357 - recall: 0.7907  \n",
      "Epoch 12: val_loss did not improve from 0.01100\n",
      "171/171 [==============================] - 63s 368ms/step - loss: 0.0126 - accuracy: 0.9356 - precision: 0.8357 - recall: 0.7907 - val_loss: 0.0113 - val_accuracy: 0.9427 - val_precision: 0.9017 - val_recall: 0.7573 - lr: 3.5000e-05\n",
      "Epoch 13/50\n",
      "171/171 [==============================] - ETA: 0s - loss: 0.0126 - accuracy: 0.9319 - precision: 0.8178 - recall: 0.7907  \n",
      "Epoch 13: val_loss did not improve from 0.01100\n",
      "171/171 [==============================] - 62s 362ms/step - loss: 0.0126 - accuracy: 0.9319 - precision: 0.8178 - recall: 0.7907 - val_loss: 0.0120 - val_accuracy: 0.9316 - val_precision: 0.7716 - val_recall: 0.8689 - lr: 3.5000e-05\n",
      "Epoch 14/50\n",
      "171/171 [==============================] - ETA: 0s - loss: 0.0128 - accuracy: 0.9323 - precision: 0.8280 - recall: 0.7782  \n",
      "Epoch 14: val_loss did not improve from 0.01100\n",
      "171/171 [==============================] - 64s 374ms/step - loss: 0.0128 - accuracy: 0.9323 - precision: 0.8280 - recall: 0.7782 - val_loss: 0.0111 - val_accuracy: 0.9368 - val_precision: 0.8173 - val_recall: 0.8252 - lr: 3.5000e-05\n",
      "Epoch 15/50\n",
      "171/171 [==============================] - ETA: 0s - loss: 0.0122 - accuracy: 0.9323 - precision: 0.8195 - recall: 0.7907  \n",
      "Epoch 15: val_loss did not improve from 0.01100\n",
      "171/171 [==============================] - 67s 391ms/step - loss: 0.0122 - accuracy: 0.9323 - precision: 0.8195 - recall: 0.7907 - val_loss: 0.0163 - val_accuracy: 0.9120 - val_precision: 0.6914 - val_recall: 0.9029 - lr: 3.5000e-05\n",
      "Epoch 16/50\n",
      "171/171 [==============================] - ETA: 0s - loss: 0.0119 - accuracy: 0.9341 - precision: 0.8263 - recall: 0.7938  \n",
      "Epoch 16: ReduceLROnPlateau reducing learning rate to 1.2249999053892678e-05.\n",
      "\n",
      "Epoch 16: val_loss did not improve from 0.01100\n",
      "171/171 [==============================] - 62s 365ms/step - loss: 0.0119 - accuracy: 0.9341 - precision: 0.8263 - recall: 0.7938 - val_loss: 0.0128 - val_accuracy: 0.9316 - val_precision: 0.9315 - val_recall: 0.6602 - lr: 3.5000e-05\n",
      "Epoch 17/50\n",
      "171/171 [==============================] - ETA: 0s - loss: 0.0122 - accuracy: 0.9367 - precision: 0.8390 - recall: 0.7938  \n",
      "Epoch 17: val_loss did not improve from 0.01100\n",
      "171/171 [==============================] - 63s 371ms/step - loss: 0.0122 - accuracy: 0.9367 - precision: 0.8390 - recall: 0.7938 - val_loss: 0.0123 - val_accuracy: 0.9376 - val_precision: 0.9290 - val_recall: 0.6990 - lr: 1.2250e-05\n",
      "Epoch 18/50\n",
      "Restoring model weights from the end of the best epoch: 11.0.0122 - accuracy: 0.9356 - precision: 0.8357 - recall: 0.7907  \n",
      "\n",
      "Epoch 18: val_loss did not improve from 0.01100\n",
      "171/171 [==============================] - 61s 356ms/step - loss: 0.0122 - accuracy: 0.9356 - precision: 0.8357 - recall: 0.7907 - val_loss: 0.0112 - val_accuracy: 0.9427 - val_precision: 0.8757 - val_recall: 0.7864 - lr: 1.2250e-05\n",
      "Epoch 18: early stopping\n",
      "Training complete!\n"
     ]
    }
   ],
   "source": [
    "# Train model\n",
    "history = model.fit(\n",
    "    train_generator,\n",
    "    steps_per_epoch=len(train_generator),\n",
    "    epochs=50,\n",
    "    validation_data=val_generator,\n",
    "    validation_steps=len(val_generator),\n",
    "    class_weight=class_weight_dict,\n",
    "    callbacks=[early_stopping, reduce_lr, checkpoint_callback, nan_terminator]\n",
    ")\n",
    "\n",
    "print(\"Training complete!\")\n"
   ]
  },
  {
   "cell_type": "code",
   "execution_count": 25,
   "metadata": {},
   "outputs": [],
   "source": [
    "#Unfreeze some layers in the base model for fine-tuning\n",
    "base_model.trainable = True\n",
    "\n",
    "# Optionally, freeze the earlier layers to avoid overfitting\n",
    "fine_tune_at = 14  # Freeze layers from 0 to 14 and fine-tune layers 15 onward\n",
    "for layer in base_model.layers[:fine_tune_at]:\n",
    "    layer.trainable = False"
   ]
  },
  {
   "cell_type": "code",
   "execution_count": 26,
   "metadata": {},
   "outputs": [],
   "source": [
    "model.compile(optimizer=tf.keras.optimizers.Adam(learning_rate=1e-5),\n",
    "              loss=focal_loss(alpha=0.5, gamma=3.0),\n",
    "              metrics=['accuracy', tf.keras.metrics.Precision(), tf.keras.metrics.Recall()])"
   ]
  },
  {
   "cell_type": "code",
   "execution_count": 27,
   "metadata": {},
   "outputs": [
    {
     "name": "stdout",
     "output_type": "stream",
     "text": [
      "Epoch 1/50\n",
      "171/171 [==============================] - ETA: 0s - loss: 0.0167 - accuracy: 0.9200 - precision_1: 0.7833 - recall_1: 0.7565   \n",
      "Epoch 1: val_loss did not improve from 0.01100\n",
      "171/171 [==============================] - 66s 366ms/step - loss: 0.0167 - accuracy: 0.9200 - precision_1: 0.7833 - recall_1: 0.7565 - val_loss: 0.0130 - val_accuracy: 0.9308 - val_precision_1: 0.9699 - val_recall_1: 0.6262 - lr: 1.0000e-05\n",
      "Epoch 2/50\n",
      "171/171 [==============================] - ETA: 0s - loss: 0.0134 - accuracy: 0.9394 - precision_1: 0.8484 - recall_1: 0.8000  \n",
      "Epoch 2: val_loss did not improve from 0.01100\n",
      "171/171 [==============================] - 65s 381ms/step - loss: 0.0134 - accuracy: 0.9394 - precision_1: 0.8484 - recall_1: 0.8000 - val_loss: 0.2680 - val_accuracy: 0.3205 - val_precision_1: 0.2058 - val_recall_1: 1.0000 - lr: 1.0000e-05\n",
      "Epoch 3/50\n",
      "171/171 [==============================] - ETA: 0s - loss: 0.0103 - accuracy: 0.9502 - precision_1: 0.8682 - recall_1: 0.8466  \n",
      "Epoch 3: val_loss did not improve from 0.01100\n",
      "171/171 [==============================] - 64s 371ms/step - loss: 0.0103 - accuracy: 0.9502 - precision_1: 0.8682 - recall_1: 0.8466 - val_loss: 0.0123 - val_accuracy: 0.9325 - val_precision_1: 0.9704 - val_recall_1: 0.6359 - lr: 1.0000e-05\n",
      "Epoch 4/50\n",
      "171/171 [==============================] - ETA: 0s - loss: 0.0087 - accuracy: 0.9564 - precision_1: 0.8783 - recall_1: 0.8746  \n",
      "Epoch 4: val_loss did not improve from 0.01100\n",
      "171/171 [==============================] - 62s 360ms/step - loss: 0.0087 - accuracy: 0.9564 - precision_1: 0.8783 - recall_1: 0.8746 - val_loss: 0.0124 - val_accuracy: 0.9342 - val_precision_1: 0.7722 - val_recall_1: 0.8883 - lr: 1.0000e-05\n",
      "Epoch 5/50\n",
      "171/171 [==============================] - ETA: 0s - loss: 0.0081 - accuracy: 0.9577 - precision_1: 0.8879 - recall_1: 0.8705  \n",
      "Epoch 5: val_loss did not improve from 0.01100\n",
      "171/171 [==============================] - 65s 377ms/step - loss: 0.0081 - accuracy: 0.9577 - precision_1: 0.8879 - recall_1: 0.8705 - val_loss: 0.0339 - val_accuracy: 0.8333 - val_precision_1: 0.5138 - val_recall_1: 0.9951 - lr: 1.0000e-05\n",
      "Epoch 6/50\n",
      "171/171 [==============================] - ETA: 0s - loss: 0.0076 - accuracy: 0.9619 - precision_1: 0.8955 - recall_1: 0.8881  \n",
      "Epoch 6: val_loss did not improve from 0.01100\n",
      "171/171 [==============================] - 62s 362ms/step - loss: 0.0076 - accuracy: 0.9619 - precision_1: 0.8955 - recall_1: 0.8881 - val_loss: 0.0248 - val_accuracy: 0.9060 - val_precision_1: 0.9800 - val_recall_1: 0.4757 - lr: 1.0000e-05\n",
      "Epoch 7/50\n",
      "171/171 [==============================] - ETA: 0s - loss: 0.0063 - accuracy: 0.9649 - precision_1: 0.9039 - recall_1: 0.8964  \n",
      "Epoch 7: val_loss did not improve from 0.01100\n",
      "171/171 [==============================] - 63s 366ms/step - loss: 0.0063 - accuracy: 0.9649 - precision_1: 0.9039 - recall_1: 0.8964 - val_loss: 0.0316 - val_accuracy: 0.8564 - val_precision_1: 0.5514 - val_recall_1: 0.9903 - lr: 1.0000e-05\n",
      "Epoch 8/50\n",
      "171/171 [==============================] - ETA: 0s - loss: 0.0057 - accuracy: 0.9729 - precision_1: 0.9190 - recall_1: 0.9285      \n",
      "Epoch 8: ReduceLROnPlateau reducing learning rate to 3.4999999115825627e-06.\n",
      "\n",
      "Epoch 8: val_loss did not improve from 0.01100\n",
      "171/171 [==============================] - 59s 343ms/step - loss: 0.0057 - accuracy: 0.9729 - precision_1: 0.9190 - recall_1: 0.9285 - val_loss: 0.0134 - val_accuracy: 0.9564 - val_precision_1: 0.8507 - val_recall_1: 0.9126 - lr: 1.0000e-05\n",
      "Epoch 9/50\n",
      "171/171 [==============================] - ETA: 0s - loss: 0.0050 - accuracy: 0.9742 - precision_1: 0.9265 - recall_1: 0.9275  \n",
      "Epoch 9: val_loss improved from 0.01100 to 0.00928, saving model to checkpoints\\model_09.h5\n",
      "171/171 [==============================] - 61s 355ms/step - loss: 0.0050 - accuracy: 0.9742 - precision_1: 0.9265 - recall_1: 0.9275 - val_loss: 0.0093 - val_accuracy: 0.9530 - val_precision_1: 0.9521 - val_recall_1: 0.7718 - lr: 3.5000e-06\n",
      "Epoch 10/50\n",
      "171/171 [==============================] - ETA: 0s - loss: 0.0042 - accuracy: 0.9789 - precision_1: 0.9427 - recall_1: 0.9378  \n",
      "Epoch 10: val_loss improved from 0.00928 to 0.00798, saving model to checkpoints\\model_10.h5\n",
      "171/171 [==============================] - 60s 350ms/step - loss: 0.0042 - accuracy: 0.9789 - precision_1: 0.9427 - recall_1: 0.9378 - val_loss: 0.0080 - val_accuracy: 0.9650 - val_precision_1: 0.8986 - val_recall_1: 0.9029 - lr: 3.5000e-06\n",
      "Epoch 11/50\n",
      "171/171 [==============================] - ETA: 0s - loss: 0.0038 - accuracy: 0.9817 - precision_1: 0.9482 - recall_1: 0.9482      \n",
      "Epoch 11: val_loss did not improve from 0.00798\n",
      "171/171 [==============================] - 60s 348ms/step - loss: 0.0038 - accuracy: 0.9817 - precision_1: 0.9482 - recall_1: 0.9482 - val_loss: 0.0087 - val_accuracy: 0.9650 - val_precision_1: 0.9412 - val_recall_1: 0.8544 - lr: 3.5000e-06\n",
      "Epoch 12/50\n",
      "171/171 [==============================] - ETA: 0s - loss: 0.0036 - accuracy: 0.9811 - precision_1: 0.9452 - recall_1: 0.9482  \n",
      "Epoch 12: val_loss improved from 0.00798 to 0.00772, saving model to checkpoints\\model_12.h5\n",
      "171/171 [==============================] - 60s 349ms/step - loss: 0.0036 - accuracy: 0.9811 - precision_1: 0.9452 - recall_1: 0.9482 - val_loss: 0.0077 - val_accuracy: 0.9675 - val_precision_1: 0.9242 - val_recall_1: 0.8883 - lr: 3.5000e-06\n",
      "Epoch 13/50\n",
      "171/171 [==============================] - ETA: 0s - loss: 0.0033 - accuracy: 0.9863 - precision_1: 0.9607 - recall_1: 0.9617  \n",
      "Epoch 13: val_loss did not improve from 0.00772\n",
      "171/171 [==============================] - 59s 345ms/step - loss: 0.0033 - accuracy: 0.9863 - precision_1: 0.9607 - recall_1: 0.9617 - val_loss: 0.0092 - val_accuracy: 0.9658 - val_precision_1: 0.8990 - val_recall_1: 0.9078 - lr: 3.5000e-06\n",
      "Epoch 14/50\n",
      "171/171 [==============================] - ETA: 0s - loss: 0.0032 - accuracy: 0.9828 - precision_1: 0.9532 - recall_1: 0.9492      \n",
      "Epoch 14: val_loss did not improve from 0.00772\n",
      "171/171 [==============================] - 59s 344ms/step - loss: 0.0032 - accuracy: 0.9828 - precision_1: 0.9532 - recall_1: 0.9492 - val_loss: 0.0103 - val_accuracy: 0.9641 - val_precision_1: 0.8761 - val_recall_1: 0.9272 - lr: 3.5000e-06\n",
      "Epoch 15/50\n",
      "171/171 [==============================] - ETA: 0s - loss: 0.0034 - accuracy: 0.9819 - precision_1: 0.9436 - recall_1: 0.9544  \n",
      "Epoch 15: val_loss did not improve from 0.00772\n",
      "171/171 [==============================] - 59s 344ms/step - loss: 0.0034 - accuracy: 0.9819 - precision_1: 0.9436 - recall_1: 0.9544 - val_loss: 0.0161 - val_accuracy: 0.9427 - val_precision_1: 0.7747 - val_recall_1: 0.9515 - lr: 3.5000e-06\n",
      "Epoch 16/50\n",
      "171/171 [==============================] - ETA: 0s - loss: 0.0032 - accuracy: 0.9846 - precision_1: 0.9490 - recall_1: 0.9648  \n",
      "Epoch 16: val_loss did not improve from 0.00772\n",
      "171/171 [==============================] - 59s 343ms/step - loss: 0.0032 - accuracy: 0.9846 - precision_1: 0.9490 - recall_1: 0.9648 - val_loss: 0.0118 - val_accuracy: 0.9504 - val_precision_1: 0.9625 - val_recall_1: 0.7476 - lr: 3.5000e-06\n",
      "Epoch 17/50\n",
      "171/171 [==============================] - ETA: 0s - loss: 0.0032 - accuracy: 0.9824 - precision_1: 0.9402 - recall_1: 0.9617      \n",
      "Epoch 17: ReduceLROnPlateau reducing learning rate to 1.2249999372215823e-06.\n",
      "\n",
      "Epoch 17: val_loss did not improve from 0.00772\n",
      "171/171 [==============================] - 59s 345ms/step - loss: 0.0032 - accuracy: 0.9824 - precision_1: 0.9402 - recall_1: 0.9617 - val_loss: 0.0117 - val_accuracy: 0.9607 - val_precision_1: 0.8478 - val_recall_1: 0.9466 - lr: 3.5000e-06\n",
      "Epoch 18/50\n",
      "171/171 [==============================] - ETA: 0s - loss: 0.0024 - accuracy: 0.9888 - precision_1: 0.9660 - recall_1: 0.9710     \n",
      "Epoch 18: val_loss did not improve from 0.00772\n",
      "171/171 [==============================] - 60s 353ms/step - loss: 0.0024 - accuracy: 0.9888 - precision_1: 0.9660 - recall_1: 0.9710 - val_loss: 0.0096 - val_accuracy: 0.9684 - val_precision_1: 0.9204 - val_recall_1: 0.8981 - lr: 1.2250e-06\n",
      "Epoch 19/50\n",
      "Restoring model weights from the end of the best epoch: 12.0.0021 - accuracy: 0.9910 - precision_1: 0.9664 - recall_1: 0.9834  \n",
      "\n",
      "Epoch 19: val_loss did not improve from 0.00772\n",
      "171/171 [==============================] - 60s 352ms/step - loss: 0.0021 - accuracy: 0.9910 - precision_1: 0.9664 - recall_1: 0.9834 - val_loss: 0.0110 - val_accuracy: 0.9658 - val_precision_1: 0.8739 - val_recall_1: 0.9417 - lr: 1.2250e-06\n",
      "Epoch 19: early stopping\n"
     ]
    }
   ],
   "source": [
    "history_fine = model.fit(\n",
    "    train_generator,\n",
    "    steps_per_epoch=len(train_generator),  # Use predefined dataset size\n",
    "    epochs=50,  \n",
    "    validation_data=val_generator,  # Use val_generator instead\n",
    "    validation_steps=len(val_generator),\n",
    "    class_weight=class_weight_dict,\n",
    "    callbacks=[early_stopping, reduce_lr, checkpoint_callback, nan_terminator]\n",
    ")"
   ]
  },
  {
   "cell_type": "code",
   "execution_count": 28,
   "metadata": {
    "vscode": {
     "languageId": "plaintext"
    }
   },
   "outputs": [
    {
     "name": "stdout",
     "output_type": "stream",
     "text": [
      "Evaluating on Test Data...\n",
      "37/37 [==============================] - 11s 289ms/step - loss: 0.0102 - accuracy: 0.9620 - precision_1: 0.8900 - recall_1: 0.8942  \n"
     ]
    }
   ],
   "source": [
    "print(\"Evaluating on Test Data...\")\n",
    "test_loss, test_accuracy, test_precision, test_recall = model.evaluate(\n",
    "    test_generator,\n",
    "    steps=len(test_generator)\n",
    ")"
   ]
  },
  {
   "cell_type": "code",
   "execution_count": 29,
   "metadata": {
    "vscode": {
     "languageId": "plaintext"
    }
   },
   "outputs": [
    {
     "name": "stdout",
     "output_type": "stream",
     "text": [
      "Test Loss: 0.0102\n",
      "Test Accuracy: 96.20%\n",
      "Test Precision: 89.00%\n",
      "Test Recall: 89.42%\n"
     ]
    }
   ],
   "source": [
    "print(f\"Test Loss: {test_loss:.4f}\")\n",
    "print(f\"Test Accuracy: {test_accuracy * 100:.2f}%\")\n",
    "print(f\"Test Precision: {test_precision * 100:.2f}%\")\n",
    "print(f\"Test Recall: {test_recall * 100:.2f}%\")\n"
   ]
  },
  {
   "cell_type": "code",
   "execution_count": 30,
   "metadata": {},
   "outputs": [
    {
     "name": "stdout",
     "output_type": "stream",
     "text": [
      "Test F1 Score: 89.21%\n"
     ]
    }
   ],
   "source": [
    "# Compute F1 Score\n",
    "if (test_precision + test_recall) > 0:\n",
    "    test_f1 = 2 * (test_precision * test_recall) / (test_precision + test_recall)\n",
    "else:\n",
    "    test_f1 = 0\n",
    "print(f\"Test F1 Score: {test_f1 * 100:.2f}%\")"
   ]
  },
  {
   "cell_type": "code",
   "execution_count": 31,
   "metadata": {},
   "outputs": [
    {
     "name": "stdout",
     "output_type": "stream",
     "text": [
      "37/37 [==============================] - 11s 283ms/step\n"
     ]
    }
   ],
   "source": [
    "true_labels = []\n",
    "for i in range(len(test_generator)):\n",
    "    _, labels = test_generator[i]  # Extract batch labels\n",
    "    true_labels.extend(labels)\n",
    "\n",
    "true_labels = np.array(true_labels)  # Convert list to NumPy array\n",
    "\n",
    "test_predictions = model.predict(test_generator)\n",
    "test_predictions = test_predictions.flatten()  # Ensure correct shape"
   ]
  },
  {
   "cell_type": "code",
   "execution_count": 32,
   "metadata": {},
   "outputs": [
    {
     "name": "stdout",
     "output_type": "stream",
     "text": [
      "Optimal threshold: 0.4648\n"
     ]
    }
   ],
   "source": [
    "precisions, recalls, thresholds = precision_recall_curve(true_labels, test_predictions)\n",
    "\n",
    "f1_scores = (2 * precisions * recalls) / (precisions + recalls + 1e-8)  # Avoid division by zero\n",
    "best_threshold = thresholds[np.argmax(f1_scores)]\n",
    "\n",
    "print(f\"Optimal threshold: {best_threshold:.4f}\")"
   ]
  },
  {
   "cell_type": "code",
   "execution_count": 33,
   "metadata": {},
   "outputs": [
    {
     "name": "stdout",
     "output_type": "stream",
     "text": [
      "37/37 [==============================] - 10s 277ms/step\n"
     ]
    }
   ],
   "source": [
    "# Generate predictions\n",
    "steps = len(test_generator)  # Ensure consistency\n",
    "test_predictions = model.predict(test_generator, steps=steps)\n",
    "\n",
    "# Convert probabilities to binary predictions\n",
    "threshold = best_threshold\n",
    "predicted_classes = (test_predictions > threshold).astype(int)\n",
    "\n",
    "# Trim true labels to match predictions\n",
    "true_labels = np.array(test_generator.labels)\n",
    "\n",
    "# Ensure no mismatches\n",
    "assert len(true_labels) == len(predicted_classes), \"Mismatch in true labels and predictions!\"\n",
    "\n"
   ]
  },
  {
   "cell_type": "code",
   "execution_count": 5,
   "metadata": {
    "jupyter": {
     "source_hidden": true
    }
   },
   "outputs": [],
   "source": [
    "#for debugginfg purpose only\n",
    "# true_labels = test_generator.labels  # Check if this exists"
   ]
  },
  {
   "cell_type": "code",
   "execution_count": 6,
   "metadata": {
    "jupyter": {
     "source_hidden": true
    }
   },
   "outputs": [],
   "source": [
    "#for debugginfg purpose only\n",
    "# print(len(true_labels))  \n",
    "# print(len(predicted_classes))  "
   ]
  },
  {
   "cell_type": "code",
   "execution_count": 36,
   "metadata": {},
   "outputs": [
    {
     "name": "stdout",
     "output_type": "stream",
     "text": [
      "Shape of true_labels: (1184,)\n",
      "Shape of predicted_classes: (1184, 1)\n"
     ]
    }
   ],
   "source": [
    "true_labels = np.array(true_labels)  # Convert list to NumPy array\n",
    "predicted_classes = np.array(predicted_classes)  # Ensure predictions are also an array\n",
    "\n",
    "print(f\"Shape of true_labels: {true_labels.shape}\")  \n",
    "print(f\"Shape of predicted_classes: {predicted_classes.shape}\")  "
   ]
  },
  {
   "cell_type": "code",
   "execution_count": 38,
   "metadata": {},
   "outputs": [
    {
     "name": "stdout",
     "output_type": "stream",
     "text": [
      "Shape of true_labels: (1184,)\n",
      "Shape of predicted_classes: (1184, 1)\n"
     ]
    }
   ],
   "source": [
    "print(f\"Shape of true_labels: {true_labels.shape}\")  \n",
    "print(f\"Shape of predicted_classes: {predicted_classes.shape}\")  "
   ]
  },
  {
   "cell_type": "code",
   "execution_count": 7,
   "metadata": {
    "jupyter": {
     "source_hidden": true
    }
   },
   "outputs": [],
   "source": [
    "#for debugging purposes \n",
    "# print(type(true_labels))  # Check the type of true_labels\n",
    "# print(true_labels)  # Print its contents"
   ]
  },
  {
   "cell_type": "code",
   "execution_count": 40,
   "metadata": {},
   "outputs": [
    {
     "data": {
      "image/png": "[encoded data removed]",
      "text/plain": [
       "<Figure size 800x600 with 2 Axes>"
      ]
     },
     "metadata": {},
     "output_type": "display_data"
    }
   ],
   "source": [
    "cm = confusion_matrix(true_labels, predicted_classes)\n",
    "class_labels = [\"au\", \"tp\"]  # Adjust according to your dataset\\\n",
    "plt.figure(figsize=(8, 6))\n",
    "sns.heatmap(cm, annot=True, fmt='d', cmap='Blues', \n",
    "            xticklabels=class_labels, yticklabels=class_labels)\n",
    "\n",
    "plt.xlabel('Predicted Labels')\n",
    "plt.ylabel('True Labels')\n",
    "plt.title('Confusion Matrix')\n",
    "plt.show()"
   ]
  },
  {
   "cell_type": "code",
   "execution_count": 41,
   "metadata": {},
   "outputs": [
    {
     "name": "stdout",
     "output_type": "stream",
     "text": [
      "Classification Report:\n",
      "              precision    recall  f1-score   support\n",
      "\n",
      "          au       0.98      0.98      0.98       976\n",
      "          tp       0.89      0.92      0.91       208\n",
      "\n",
      "    accuracy                           0.97      1184\n",
      "   macro avg       0.94      0.95      0.94      1184\n",
      "weighted avg       0.97      0.97      0.97      1184\n",
      "\n"
     ]
    }
   ],
   "source": [
    "print(\"Classification Report:\")\n",
    "class_labels = [\"au\", \"tp\"]  # Adjust according to your dataset\n",
    "print(classification_report(true_labels, predicted_classes, target_names=class_labels))"
   ]
  },
  {
   "cell_type": "code",
   "execution_count": 42,
   "metadata": {},
   "outputs": [],
   "source": [
    "precision = precision_score(true_labels, predicted_classes, zero_division=1)\n",
    "recall = recall_score(true_labels, predicted_classes, zero_division=1)"
   ]
  },
  {
   "cell_type": "code",
   "execution_count": 43,
   "metadata": {},
   "outputs": [
    {
     "name": "stdout",
     "output_type": "stream",
     "text": [
      "Precision: 0.8889\n",
      "Recall: 0.9231\n"
     ]
    }
   ],
   "source": [
    "print(f\"Precision: {precision:.4f}\")\n",
    "print(f\"Recall: {recall:.4f}\")\n"
   ]
  },
  {
   "cell_type": "code",
   "execution_count": 44,
   "metadata": {},
   "outputs": [
    {
     "name": "stdout",
     "output_type": "stream",
     "text": [
      "Class distribution in predictions: (array([0, 1]), array([968, 216], dtype=int64))\n"
     ]
    }
   ],
   "source": [
    "print(\"Class distribution in predictions:\", np.unique(predicted_classes, return_counts=True))\n"
   ]
  },
  {
   "cell_type": "code",
   "execution_count": 46,
   "metadata": {},
   "outputs": [],
   "source": [
    "model.save(\"models/v4.h5\")\n",
    "model.save(\"models/v4.keras\")\n",
    "\n"
   ]
  }
 ],
 "metadata": {
  "kernelspec": {
   "display_name": "Python 3 (ipykernel)",
   "language": "python",
   "name": "python3"
  },
  "language_info": {
   "codemirror_mode": {
    "name": "ipython",
    "version": 3
   },
   "file_extension": ".py",
   "mimetype": "text/x-python",
   "name": "python",
   "nbconvert_exporter": "python",
   "pygments_lexer": "ipython3",
   "version": "3.9.18"
  }
 },
 "nbformat": 4,
 "nbformat_minor": 4
}
